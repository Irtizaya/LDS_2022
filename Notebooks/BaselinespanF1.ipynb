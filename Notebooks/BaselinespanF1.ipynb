{
  "cells": [
    {
      "cell_type": "code",
      "execution_count": null,
      "metadata": {
        "colab": {
          "base_uri": "https://localhost:8080/"
        },
        "id": "3Cdwr6mpoggM",
        "outputId": "a1117355-1f85-4bdb-b975-f6a089b4d779"
      },
      "outputs": [],
      "source": [
        "from google.colab import drive\n",
        "drive.mount('/content/drive')"
      ]
    },
    {
      "cell_type": "code",
      "execution_count": null,
      "metadata": {
        "colab": {
          "base_uri": "https://localhost:8080/"
        },
        "id": "R_5zjwuYow0g",
        "outputId": "1bee327d-da87-4b31-b8e1-0dd0bd686efb"
      },
      "outputs": [],
      "source": [
        "%cd /content/drive/My\\ Drive/Legal\\ DS/Paheli_LegalBERT/rhetorical-role-baseline/"
      ]
    },
    {
      "cell_type": "code",
      "execution_count": null,
      "metadata": {
        "id": "rmrSJe-Cp2i0"
      },
      "outputs": [],
      "source": [
        "!pip install -r requirements_colab.txt"
      ]
    },
    {
      "cell_type": "code",
      "execution_count": null,
      "metadata": {
        "colab": {
          "base_uri": "https://localhost:8080/"
        },
        "id": "qQvFDLJhTt91",
        "outputId": "b67ac9b8-f4d1-4556-fa77-4750b4ba4d68"
      },
      "outputs": [],
      "source": [
        "# %cd /content/drive/My\\ Drive/Legal\\ DS/Paheli_new_corpus/semantic-segmentation/Corpus"
      ]
    },
    {
      "cell_type": "code",
      "execution_count": null,
      "metadata": {
        "colab": {
          "base_uri": "https://localhost:8080/"
        },
        "id": "KZ76WDjeqJGP",
        "outputId": "e020164e-40fc-40cf-f0af-5d8f8bdc7dd6"
      },
      "outputs": [],
      "source": [
        "!python tokenize_files.py '/content/drive/My Drive/Legal DS/Paheli_new_corpus/semantic-segmentation/Corpus/train.json' '/content/drive/My Drive/Legal DS/Paheli_new_corpus/semantic-segmentation/Corpus/dev.json' '/content/drive/My Drive/Legal DS/Paheli_new_corpus/semantic-segmentation/Corpus/dev.json'"
      ]
    },
    {
      "cell_type": "code",
      "execution_count": null,
      "metadata": {
        "colab": {
          "base_uri": "https://localhost:8080/"
        },
        "id": "4Iatj8gXtkRt",
        "outputId": "b0f041ac-d0a8-425e-a2c1-711a3879afb0"
      },
      "outputs": [],
      "source": [
        "!python baseline_run.py "
      ]
    },
    {
      "cell_type": "code",
      "execution_count": null,
      "metadata": {
        "id": "Mn3JsuKyuNpd"
      },
      "outputs": [],
      "source": []
    }
  ],
  "metadata": {
    "accelerator": "GPU",
    "colab": {
      "collapsed_sections": [],
      "name": "PaheliLegalBERT.ipynb",
      "provenance": []
    },
    "gpuClass": "standard",
    "kernelspec": {
      "display_name": "Python 3",
      "name": "python3"
    },
    "language_info": {
      "name": "python"
    }
  },
  "nbformat": 4,
  "nbformat_minor": 0
}
